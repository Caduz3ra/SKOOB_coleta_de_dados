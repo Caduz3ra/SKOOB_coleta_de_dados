{
 "cells": [
  {
   "cell_type": "code",
   "execution_count": 2,
   "id": "67b25ca9",
   "metadata": {},
   "outputs": [
    {
     "name": "stdout",
     "output_type": "stream",
     "text": [
      "Digite a URL: https://www.skoob.com.br/livro/resenhas/2703/edicao:3512\n",
      "Digite a quantidade de páginas para coletar: 150\n",
      "Processo realizado com sucesso!\n"
     ]
    }
   ],
   "source": [
    "import requests\n",
    "from bs4 import BeautifulSoup\n",
    "import pandas as pd\n",
    "\n",
    "# URL das página de resenhas\n",
    "url = input('Digite a URL: ')\n",
    "quantidade = int(input('Digite a quantidade de páginas para coletar: '))\n",
    "pages = [url +'/mpage:'+str(i) for i in range(1, quantidade+1)]\n",
    "\n",
    "# Conjunto para armazenar links únicos\n",
    "unique_links = set()\n",
    "\n",
    "# Fazer loop nas páginas\n",
    "for page in pages:\n",
    "    # Fazer solicitação GET na página\n",
    "    res = requests.get(page)\n",
    "    # Criar objeto BeautifulSoup\n",
    "    soup = BeautifulSoup(res.text, 'html.parser')\n",
    "    # Encontrar todos os links\n",
    "    for link in soup.find_all('a'):\n",
    "        href = link.get('href')\n",
    "        # Verificar se o link contém \"/usuario/\"\n",
    "        if href and '/usuario/' in href and '/usuario/lista' not in href:\n",
    "            unique_links.add(\"https://www.skoob.com.br\" + link['href'])\n",
    "\n",
    "# Criar dataframe com os links encontrados\n",
    "df = pd.DataFrame(list(unique_links), columns=['Links'])\n",
    "\n",
    "# Salvar dataframe em um arquivo excel\n",
    "df.to_excel('links.xlsx', index=False)\n",
    "print('Processo realizado com sucesso!')"
   ]
  },
  {
   "cell_type": "code",
   "execution_count": null,
   "id": "de4a6b4d",
   "metadata": {},
   "outputs": [],
   "source": []
  },
  {
   "cell_type": "code",
   "execution_count": null,
   "id": "cdd191db",
   "metadata": {},
   "outputs": [],
   "source": []
  }
 ],
 "metadata": {
  "kernelspec": {
   "display_name": "Python 3 (ipykernel)",
   "language": "python",
   "name": "python3"
  },
  "language_info": {
   "codemirror_mode": {
    "name": "ipython",
    "version": 3
   },
   "file_extension": ".py",
   "mimetype": "text/x-python",
   "name": "python",
   "nbconvert_exporter": "python",
   "pygments_lexer": "ipython3",
   "version": "3.9.13"
  }
 },
 "nbformat": 4,
 "nbformat_minor": 5
}
